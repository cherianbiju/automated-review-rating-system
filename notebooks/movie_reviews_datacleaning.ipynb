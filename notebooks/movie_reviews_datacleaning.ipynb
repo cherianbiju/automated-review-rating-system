{
 "cells": [
  {
   "cell_type": "markdown",
   "id": "f5fbea85-ced9-4644-a50d-bb0af97af4fa",
   "metadata": {},
   "source": [
    "# IMPORT LIBRARIES AND DATASETS"
   ]
  },
  {
   "cell_type": "code",
   "execution_count": 29,
   "id": "e4d3bd96-894a-477d-8c8a-0d2bad61b791",
   "metadata": {},
   "outputs": [],
   "source": [
    "import pandas as pd\n",
    "import re"
   ]
  },
  {
   "cell_type": "code",
   "execution_count": 30,
   "id": "c354d8bf-b28d-4109-ab77-b925c8ffefc8",
   "metadata": {},
   "outputs": [],
   "source": [
    "data_path=\"../data/dataset/Movie_ratings/Movie Review And Rating.csv\"\n",
    "df=pd.read_csv(data_path)"
   ]
  },
  {
   "cell_type": "code",
   "execution_count": 31,
   "id": "b23cb1db-47f6-4e59-9328-373c73e0e515",
   "metadata": {},
   "outputs": [
    {
     "data": {
      "text/html": [
       "<div>\n",
       "<style scoped>\n",
       "    .dataframe tbody tr th:only-of-type {\n",
       "        vertical-align: middle;\n",
       "    }\n",
       "\n",
       "    .dataframe tbody tr th {\n",
       "        vertical-align: top;\n",
       "    }\n",
       "\n",
       "    .dataframe thead th {\n",
       "        text-align: right;\n",
       "    }\n",
       "</style>\n",
       "<table border=\"1\" class=\"dataframe\">\n",
       "  <thead>\n",
       "    <tr style=\"text-align: right;\">\n",
       "      <th></th>\n",
       "      <th>ID</th>\n",
       "      <th>Movie</th>\n",
       "      <th>Year</th>\n",
       "      <th>Genres</th>\n",
       "      <th>Review</th>\n",
       "      <th>Rating</th>\n",
       "    </tr>\n",
       "  </thead>\n",
       "  <tbody>\n",
       "    <tr>\n",
       "      <th>0</th>\n",
       "      <td>100001</td>\n",
       "      <td>Spider-Man: No Way Home</td>\n",
       "      <td>2021</td>\n",
       "      <td>Action/Adventure</td>\n",
       "      <td>This is by far the best Spider-Man or even Mar...</td>\n",
       "      <td>5</td>\n",
       "    </tr>\n",
       "    <tr>\n",
       "      <th>1</th>\n",
       "      <td>100002</td>\n",
       "      <td>Spider-Man: No Way Home</td>\n",
       "      <td>2021</td>\n",
       "      <td>Action/Adventure</td>\n",
       "      <td>Coming from someone who doesn’t like the previ...</td>\n",
       "      <td>5</td>\n",
       "    </tr>\n",
       "    <tr>\n",
       "      <th>2</th>\n",
       "      <td>100003</td>\n",
       "      <td>Spider-Man: No Way Home</td>\n",
       "      <td>2021</td>\n",
       "      <td>Action/Adventure</td>\n",
       "      <td>Marvel has outdone themselves. This is the qui...</td>\n",
       "      <td>5</td>\n",
       "    </tr>\n",
       "    <tr>\n",
       "      <th>3</th>\n",
       "      <td>100004</td>\n",
       "      <td>Spider-Man: No Way Home</td>\n",
       "      <td>2021</td>\n",
       "      <td>Action/Adventure</td>\n",
       "      <td>Saw this #FDFS at 5am\\nYou beauty Spider-Man\\n...</td>\n",
       "      <td>5</td>\n",
       "    </tr>\n",
       "    <tr>\n",
       "      <th>4</th>\n",
       "      <td>100005</td>\n",
       "      <td>Spider-Man: No Way Home</td>\n",
       "      <td>2021</td>\n",
       "      <td>Action/Adventure</td>\n",
       "      <td>Best in the Spiderman line, and it takes top s...</td>\n",
       "      <td>5</td>\n",
       "    </tr>\n",
       "    <tr>\n",
       "      <th>5</th>\n",
       "      <td>100006</td>\n",
       "      <td>Spider-Man: No Way Home</td>\n",
       "      <td>2021</td>\n",
       "      <td>Action/Adventure</td>\n",
       "      <td>Awful movie. The plot sucked and had awful pac...</td>\n",
       "      <td>1</td>\n",
       "    </tr>\n",
       "    <tr>\n",
       "      <th>6</th>\n",
       "      <td>100007</td>\n",
       "      <td>Spider-Man: No Way Home</td>\n",
       "      <td>2021</td>\n",
       "      <td>Action/Adventure</td>\n",
       "      <td>Marvel really need new writers(especially in t...</td>\n",
       "      <td>1</td>\n",
       "    </tr>\n",
       "    <tr>\n",
       "      <th>7</th>\n",
       "      <td>100008</td>\n",
       "      <td>Spider-Man: No Way Home</td>\n",
       "      <td>2021</td>\n",
       "      <td>Action/Adventure</td>\n",
       "      <td>This movie showed us someone that we didn´t ev...</td>\n",
       "      <td>1</td>\n",
       "    </tr>\n",
       "    <tr>\n",
       "      <th>8</th>\n",
       "      <td>100009</td>\n",
       "      <td>Spider-Man: No Way Home</td>\n",
       "      <td>2021</td>\n",
       "      <td>Action/Adventure</td>\n",
       "      <td>I'm not a fan of super-turds.  I watched this ...</td>\n",
       "      <td>1</td>\n",
       "    </tr>\n",
       "    <tr>\n",
       "      <th>9</th>\n",
       "      <td>100010</td>\n",
       "      <td>Spider-Man: No Way Home</td>\n",
       "      <td>2021</td>\n",
       "      <td>Action/Adventure</td>\n",
       "      <td>I didn't enjoy this movie and what dialogue th...</td>\n",
       "      <td>1</td>\n",
       "    </tr>\n",
       "  </tbody>\n",
       "</table>\n",
       "</div>"
      ],
      "text/plain": [
       "       ID                    Movie  Year            Genres  \\\n",
       "0  100001  Spider-Man: No Way Home  2021  Action/Adventure   \n",
       "1  100002  Spider-Man: No Way Home  2021  Action/Adventure   \n",
       "2  100003  Spider-Man: No Way Home  2021  Action/Adventure   \n",
       "3  100004  Spider-Man: No Way Home  2021  Action/Adventure   \n",
       "4  100005  Spider-Man: No Way Home  2021  Action/Adventure   \n",
       "5  100006  Spider-Man: No Way Home  2021  Action/Adventure   \n",
       "6  100007  Spider-Man: No Way Home  2021  Action/Adventure   \n",
       "7  100008  Spider-Man: No Way Home  2021  Action/Adventure   \n",
       "8  100009  Spider-Man: No Way Home  2021  Action/Adventure   \n",
       "9  100010  Spider-Man: No Way Home  2021  Action/Adventure   \n",
       "\n",
       "                                              Review  Rating  \n",
       "0  This is by far the best Spider-Man or even Mar...       5  \n",
       "1  Coming from someone who doesn’t like the previ...       5  \n",
       "2  Marvel has outdone themselves. This is the qui...       5  \n",
       "3  Saw this #FDFS at 5am\\nYou beauty Spider-Man\\n...       5  \n",
       "4  Best in the Spiderman line, and it takes top s...       5  \n",
       "5  Awful movie. The plot sucked and had awful pac...       1  \n",
       "6  Marvel really need new writers(especially in t...       1  \n",
       "7  This movie showed us someone that we didn´t ev...       1  \n",
       "8  I'm not a fan of super-turds.  I watched this ...       1  \n",
       "9  I didn't enjoy this movie and what dialogue th...       1  "
      ]
     },
     "execution_count": 31,
     "metadata": {},
     "output_type": "execute_result"
    }
   ],
   "source": [
    "df.head(10)"
   ]
  },
  {
   "cell_type": "markdown",
   "id": "d1fe3e25-aa78-4d5e-a327-b88544558475",
   "metadata": {},
   "source": [
    "# NEED ONLY THE REVIEWS AND RATINGS"
   ]
  },
  {
   "cell_type": "code",
   "execution_count": 32,
   "id": "2616dc29-b63a-473a-8e0c-4438a7438acf",
   "metadata": {},
   "outputs": [],
   "source": [
    "df = df[['Review','Rating']].dropna()"
   ]
  },
  {
   "cell_type": "code",
   "execution_count": 33,
   "id": "06953eb4-bac5-4a46-a8fa-b897c40ddbe3",
   "metadata": {},
   "outputs": [
    {
     "data": {
      "text/html": [
       "<div>\n",
       "<style scoped>\n",
       "    .dataframe tbody tr th:only-of-type {\n",
       "        vertical-align: middle;\n",
       "    }\n",
       "\n",
       "    .dataframe tbody tr th {\n",
       "        vertical-align: top;\n",
       "    }\n",
       "\n",
       "    .dataframe thead th {\n",
       "        text-align: right;\n",
       "    }\n",
       "</style>\n",
       "<table border=\"1\" class=\"dataframe\">\n",
       "  <thead>\n",
       "    <tr style=\"text-align: right;\">\n",
       "      <th></th>\n",
       "      <th>Review</th>\n",
       "      <th>Rating</th>\n",
       "    </tr>\n",
       "  </thead>\n",
       "  <tbody>\n",
       "    <tr>\n",
       "      <th>983</th>\n",
       "      <td>Top Notch , fantastically made n presented 👏👏👏</td>\n",
       "      <td>5</td>\n",
       "    </tr>\n",
       "    <tr>\n",
       "      <th>903</th>\n",
       "      <td>A cinematic presentation worth spending your p...</td>\n",
       "      <td>5</td>\n",
       "    </tr>\n",
       "    <tr>\n",
       "      <th>811</th>\n",
       "      <td>Wonder woman 1984 is a beautiful film that’s m...</td>\n",
       "      <td>4</td>\n",
       "    </tr>\n",
       "    <tr>\n",
       "      <th>375</th>\n",
       "      <td>There’s a lot to like about this film, but I p...</td>\n",
       "      <td>3</td>\n",
       "    </tr>\n",
       "    <tr>\n",
       "      <th>348</th>\n",
       "      <td>Aside from all the political BS this movie is ...</td>\n",
       "      <td>1</td>\n",
       "    </tr>\n",
       "  </tbody>\n",
       "</table>\n",
       "</div>"
      ],
      "text/plain": [
       "                                                Review  Rating\n",
       "983     Top Notch , fantastically made n presented 👏👏👏       5\n",
       "903  A cinematic presentation worth spending your p...       5\n",
       "811  Wonder woman 1984 is a beautiful film that’s m...       4\n",
       "375  There’s a lot to like about this film, but I p...       3\n",
       "348  Aside from all the political BS this movie is ...       1"
      ]
     },
     "execution_count": 33,
     "metadata": {},
     "output_type": "execute_result"
    }
   ],
   "source": [
    "df.sample(5)"
   ]
  },
  {
   "cell_type": "markdown",
   "id": "edb6ce42-2473-4373-aab8-f6023f5c0022",
   "metadata": {},
   "source": [
    "# ORDERING THE TEXT REVIEW"
   ]
  },
  {
   "cell_type": "code",
   "execution_count": 34,
   "id": "ab7e826d-7880-496b-a826-b1c55e329c86",
   "metadata": {},
   "outputs": [],
   "source": [
    "df['clean_Review'] = df['Review'].str.strip().str.lower()"
   ]
  },
  {
   "cell_type": "code",
   "execution_count": 35,
   "id": "a046dfda-29fb-4a95-a08f-785731c1b6fd",
   "metadata": {},
   "outputs": [
    {
     "data": {
      "text/plain": [
       "0      False\n",
       "1      False\n",
       "2      False\n",
       "3      False\n",
       "4      False\n",
       "       ...  \n",
       "995    False\n",
       "996    False\n",
       "997    False\n",
       "998    False\n",
       "999    False\n",
       "Length: 1000, dtype: bool"
      ]
     },
     "execution_count": 35,
     "metadata": {},
     "output_type": "execute_result"
    }
   ],
   "source": [
    "\n",
    "df['clean_Review'] = df['clean_Review'].str.replace(r'[^\\w\\s]', '', regex=True).str.replace(r'\\s+', ' ', regex=True).str.strip()\n",
    "df.duplicated(subset='clean_Review')\n"
   ]
  },
  {
   "cell_type": "markdown",
   "id": "302dc4cb-958c-4a21-99fd-fe274e21ab78",
   "metadata": {},
   "source": [
    "# REMOVING THE DUPLICATES FROM THE DATASET"
   ]
  },
  {
   "cell_type": "code",
   "execution_count": 36,
   "id": "c9cf3600-f96e-4c47-8396-febd49076f9c",
   "metadata": {},
   "outputs": [
    {
     "data": {
      "text/plain": [
       "np.int64(7)"
      ]
     },
     "execution_count": 36,
     "metadata": {},
     "output_type": "execute_result"
    }
   ],
   "source": [
    "df.duplicated(subset='clean_Review').sum()"
   ]
  },
  {
   "cell_type": "code",
   "execution_count": 37,
   "id": "b0527e6d-43df-4dfe-96c4-e7d62353db18",
   "metadata": {},
   "outputs": [],
   "source": [
    "df=df.drop_duplicates(subset='clean_Review',keep='first')"
   ]
  },
  {
   "cell_type": "code",
   "execution_count": 38,
   "id": "f0e42602-dd88-47c6-9705-f983a29b5d1d",
   "metadata": {},
   "outputs": [
    {
     "data": {
      "text/html": [
       "<div>\n",
       "<style scoped>\n",
       "    .dataframe tbody tr th:only-of-type {\n",
       "        vertical-align: middle;\n",
       "    }\n",
       "\n",
       "    .dataframe tbody tr th {\n",
       "        vertical-align: top;\n",
       "    }\n",
       "\n",
       "    .dataframe thead th {\n",
       "        text-align: right;\n",
       "    }\n",
       "</style>\n",
       "<table border=\"1\" class=\"dataframe\">\n",
       "  <thead>\n",
       "    <tr style=\"text-align: right;\">\n",
       "      <th></th>\n",
       "      <th>Review</th>\n",
       "      <th>Rating</th>\n",
       "      <th>clean_Review</th>\n",
       "    </tr>\n",
       "  </thead>\n",
       "  <tbody>\n",
       "    <tr>\n",
       "      <th>294</th>\n",
       "      <td>Im late to the party with this review. But can...</td>\n",
       "      <td>1</td>\n",
       "      <td>im late to the party with this review but can ...</td>\n",
       "    </tr>\n",
       "    <tr>\n",
       "      <th>701</th>\n",
       "      <td>I Freaking Loved It, Worth The Wait! It Feels ...</td>\n",
       "      <td>5</td>\n",
       "      <td>i freaking loved it worth the wait it feels so...</td>\n",
       "    </tr>\n",
       "    <tr>\n",
       "      <th>454</th>\n",
       "      <td>I thoroughly enjoyed this film. The fight scen...</td>\n",
       "      <td>5</td>\n",
       "      <td>i thoroughly enjoyed this film the fight scene...</td>\n",
       "    </tr>\n",
       "    <tr>\n",
       "      <th>177</th>\n",
       "      <td>Tenet is Christopher Nolan's most ambitious mo...</td>\n",
       "      <td>3</td>\n",
       "      <td>tenet is christopher nolans most ambitious mov...</td>\n",
       "    </tr>\n",
       "    <tr>\n",
       "      <th>281</th>\n",
       "      <td>a secret government agency recruits imprisoned...</td>\n",
       "      <td>2</td>\n",
       "      <td>a secret government agency recruits imprisoned...</td>\n",
       "    </tr>\n",
       "    <tr>\n",
       "      <th>213</th>\n",
       "      <td>A fun movie with a lot of callbacks to the cla...</td>\n",
       "      <td>4</td>\n",
       "      <td>a fun movie with a lot of callbacks to the cla...</td>\n",
       "    </tr>\n",
       "    <tr>\n",
       "      <th>253</th>\n",
       "      <td>I LOVED JARED LETO JOKER HE WAS EVEN BETTER TH...</td>\n",
       "      <td>5</td>\n",
       "      <td>i loved jared leto joker he was even better th...</td>\n",
       "    </tr>\n",
       "    <tr>\n",
       "      <th>665</th>\n",
       "      <td>If I could I would have given a 4.5 rating. I ...</td>\n",
       "      <td>4</td>\n",
       "      <td>if i could i would have given a 45 rating i ha...</td>\n",
       "    </tr>\n",
       "    <tr>\n",
       "      <th>94</th>\n",
       "      <td>I can’t believe James Wan attached his name to...</td>\n",
       "      <td>1</td>\n",
       "      <td>i cant believe james wan attached his name to ...</td>\n",
       "    </tr>\n",
       "    <tr>\n",
       "      <th>981</th>\n",
       "      <td>Ehhh, Not that great but as I type this I know...</td>\n",
       "      <td>2</td>\n",
       "      <td>ehhh not that great but as i type this i know ...</td>\n",
       "    </tr>\n",
       "  </tbody>\n",
       "</table>\n",
       "</div>"
      ],
      "text/plain": [
       "                                                Review  Rating  \\\n",
       "294  Im late to the party with this review. But can...       1   \n",
       "701  I Freaking Loved It, Worth The Wait! It Feels ...       5   \n",
       "454  I thoroughly enjoyed this film. The fight scen...       5   \n",
       "177  Tenet is Christopher Nolan's most ambitious mo...       3   \n",
       "281  a secret government agency recruits imprisoned...       2   \n",
       "213  A fun movie with a lot of callbacks to the cla...       4   \n",
       "253  I LOVED JARED LETO JOKER HE WAS EVEN BETTER TH...       5   \n",
       "665  If I could I would have given a 4.5 rating. I ...       4   \n",
       "94   I can’t believe James Wan attached his name to...       1   \n",
       "981  Ehhh, Not that great but as I type this I know...       2   \n",
       "\n",
       "                                          clean_Review  \n",
       "294  im late to the party with this review but can ...  \n",
       "701  i freaking loved it worth the wait it feels so...  \n",
       "454  i thoroughly enjoyed this film the fight scene...  \n",
       "177  tenet is christopher nolans most ambitious mov...  \n",
       "281  a secret government agency recruits imprisoned...  \n",
       "213  a fun movie with a lot of callbacks to the cla...  \n",
       "253  i loved jared leto joker he was even better th...  \n",
       "665  if i could i would have given a 45 rating i ha...  \n",
       "94   i cant believe james wan attached his name to ...  \n",
       "981  ehhh not that great but as i type this i know ...  "
      ]
     },
     "execution_count": 38,
     "metadata": {},
     "output_type": "execute_result"
    }
   ],
   "source": [
    "df.sample(10)"
   ]
  },
  {
   "cell_type": "markdown",
   "id": "ddc416d0-5cc1-49e4-b9d2-c181ede91b6b",
   "metadata": {},
   "source": [
    "# CHECKING FOR EMPTY REVIEWS"
   ]
  },
  {
   "cell_type": "code",
   "execution_count": 39,
   "id": "07f3ff10-e012-4f4d-aa2d-73c39d2b9bf0",
   "metadata": {},
   "outputs": [
    {
     "data": {
      "text/plain": [
       "np.int64(0)"
      ]
     },
     "execution_count": 39,
     "metadata": {},
     "output_type": "execute_result"
    }
   ],
   "source": [
    "df.duplicated(subset='clean_Review').sum()"
   ]
  },
  {
   "cell_type": "code",
   "execution_count": 40,
   "id": "aed63f82-cd72-4932-820c-f3961252a5f1",
   "metadata": {},
   "outputs": [
    {
     "name": "stdout",
     "output_type": "stream",
     "text": [
      "0\n"
     ]
    }
   ],
   "source": [
    "empty_count = (df['clean_Review'] == '').sum()\n",
    "print(empty_count)"
   ]
  },
  {
   "cell_type": "code",
   "execution_count": 41,
   "id": "d949eeb7-0028-465a-9e8f-904b304851e9",
   "metadata": {},
   "outputs": [],
   "source": [
    "df = df[df['clean_Review'] != '']"
   ]
  },
  {
   "cell_type": "code",
   "execution_count": 42,
   "id": "c9d7d1aa-4fe1-4d1a-9d47-9d20d4706985",
   "metadata": {},
   "outputs": [
    {
     "name": "stdout",
     "output_type": "stream",
     "text": [
      "0\n"
     ]
    }
   ],
   "source": [
    "empty_count = (df['clean_Review'] == '').sum()\n",
    "print(empty_count)"
   ]
  },
  {
   "cell_type": "code",
   "execution_count": 43,
   "id": "0f21d4f9-031d-4190-85ae-604454e511e0",
   "metadata": {},
   "outputs": [
    {
     "data": {
      "text/html": [
       "<div>\n",
       "<style scoped>\n",
       "    .dataframe tbody tr th:only-of-type {\n",
       "        vertical-align: middle;\n",
       "    }\n",
       "\n",
       "    .dataframe tbody tr th {\n",
       "        vertical-align: top;\n",
       "    }\n",
       "\n",
       "    .dataframe thead th {\n",
       "        text-align: right;\n",
       "    }\n",
       "</style>\n",
       "<table border=\"1\" class=\"dataframe\">\n",
       "  <thead>\n",
       "    <tr style=\"text-align: right;\">\n",
       "      <th></th>\n",
       "      <th>Review</th>\n",
       "      <th>Rating</th>\n",
       "      <th>clean_Review</th>\n",
       "    </tr>\n",
       "  </thead>\n",
       "  <tbody>\n",
       "    <tr>\n",
       "      <th>0</th>\n",
       "      <td>This is by far the best Spider-Man or even Mar...</td>\n",
       "      <td>5</td>\n",
       "      <td>this is by far the best spiderman or even marv...</td>\n",
       "    </tr>\n",
       "    <tr>\n",
       "      <th>1</th>\n",
       "      <td>Coming from someone who doesn’t like the previ...</td>\n",
       "      <td>5</td>\n",
       "      <td>coming from someone who doesnt like the previo...</td>\n",
       "    </tr>\n",
       "    <tr>\n",
       "      <th>2</th>\n",
       "      <td>Marvel has outdone themselves. This is the qui...</td>\n",
       "      <td>5</td>\n",
       "      <td>marvel has outdone themselves this is the quin...</td>\n",
       "    </tr>\n",
       "    <tr>\n",
       "      <th>3</th>\n",
       "      <td>Saw this #FDFS at 5am\\nYou beauty Spider-Man\\n...</td>\n",
       "      <td>5</td>\n",
       "      <td>saw this fdfs at 5am you beauty spiderman the ...</td>\n",
       "    </tr>\n",
       "    <tr>\n",
       "      <th>4</th>\n",
       "      <td>Best in the Spiderman line, and it takes top s...</td>\n",
       "      <td>5</td>\n",
       "      <td>best in the spiderman line and it takes top sp...</td>\n",
       "    </tr>\n",
       "    <tr>\n",
       "      <th>5</th>\n",
       "      <td>Awful movie. The plot sucked and had awful pac...</td>\n",
       "      <td>1</td>\n",
       "      <td>awful movie the plot sucked and had awful paci...</td>\n",
       "    </tr>\n",
       "    <tr>\n",
       "      <th>6</th>\n",
       "      <td>Marvel really need new writers(especially in t...</td>\n",
       "      <td>1</td>\n",
       "      <td>marvel really need new writersespecially in th...</td>\n",
       "    </tr>\n",
       "    <tr>\n",
       "      <th>7</th>\n",
       "      <td>This movie showed us someone that we didn´t ev...</td>\n",
       "      <td>1</td>\n",
       "      <td>this movie showed us someone that we didnt eve...</td>\n",
       "    </tr>\n",
       "    <tr>\n",
       "      <th>8</th>\n",
       "      <td>I'm not a fan of super-turds.  I watched this ...</td>\n",
       "      <td>1</td>\n",
       "      <td>im not a fan of superturds i watched this film...</td>\n",
       "    </tr>\n",
       "    <tr>\n",
       "      <th>9</th>\n",
       "      <td>I didn't enjoy this movie and what dialogue th...</td>\n",
       "      <td>1</td>\n",
       "      <td>i didnt enjoy this movie and what dialogue the...</td>\n",
       "    </tr>\n",
       "  </tbody>\n",
       "</table>\n",
       "</div>"
      ],
      "text/plain": [
       "                                              Review  Rating  \\\n",
       "0  This is by far the best Spider-Man or even Mar...       5   \n",
       "1  Coming from someone who doesn’t like the previ...       5   \n",
       "2  Marvel has outdone themselves. This is the qui...       5   \n",
       "3  Saw this #FDFS at 5am\\nYou beauty Spider-Man\\n...       5   \n",
       "4  Best in the Spiderman line, and it takes top s...       5   \n",
       "5  Awful movie. The plot sucked and had awful pac...       1   \n",
       "6  Marvel really need new writers(especially in t...       1   \n",
       "7  This movie showed us someone that we didn´t ev...       1   \n",
       "8  I'm not a fan of super-turds.  I watched this ...       1   \n",
       "9  I didn't enjoy this movie and what dialogue th...       1   \n",
       "\n",
       "                                        clean_Review  \n",
       "0  this is by far the best spiderman or even marv...  \n",
       "1  coming from someone who doesnt like the previo...  \n",
       "2  marvel has outdone themselves this is the quin...  \n",
       "3  saw this fdfs at 5am you beauty spiderman the ...  \n",
       "4  best in the spiderman line and it takes top sp...  \n",
       "5  awful movie the plot sucked and had awful paci...  \n",
       "6  marvel really need new writersespecially in th...  \n",
       "7  this movie showed us someone that we didnt eve...  \n",
       "8  im not a fan of superturds i watched this film...  \n",
       "9  i didnt enjoy this movie and what dialogue the...  "
      ]
     },
     "execution_count": 43,
     "metadata": {},
     "output_type": "execute_result"
    }
   ],
   "source": [
    "df.head(10)"
   ]
  },
  {
   "cell_type": "markdown",
   "id": "27e42140-e9ce-45f6-9c87-9ca6675c4240",
   "metadata": {},
   "source": [
    "# DROPING THE UNWANTED COLUMNS 'REVIEW'"
   ]
  },
  {
   "cell_type": "code",
   "execution_count": 44,
   "id": "185d05f7-d76b-412d-9239-344fd9c7d22b",
   "metadata": {},
   "outputs": [],
   "source": [
    "df=df.drop(columns='Review')"
   ]
  },
  {
   "cell_type": "code",
   "execution_count": 45,
   "id": "e3f930d3-a9a2-4c53-a82f-38aa51fb420b",
   "metadata": {},
   "outputs": [
    {
     "data": {
      "text/html": [
       "<div>\n",
       "<style scoped>\n",
       "    .dataframe tbody tr th:only-of-type {\n",
       "        vertical-align: middle;\n",
       "    }\n",
       "\n",
       "    .dataframe tbody tr th {\n",
       "        vertical-align: top;\n",
       "    }\n",
       "\n",
       "    .dataframe thead th {\n",
       "        text-align: right;\n",
       "    }\n",
       "</style>\n",
       "<table border=\"1\" class=\"dataframe\">\n",
       "  <thead>\n",
       "    <tr style=\"text-align: right;\">\n",
       "      <th></th>\n",
       "      <th>Rating</th>\n",
       "      <th>clean_Review</th>\n",
       "    </tr>\n",
       "  </thead>\n",
       "  <tbody>\n",
       "    <tr>\n",
       "      <th>954</th>\n",
       "      <td>5</td>\n",
       "      <td>this movie is rightly recommended for i quote ...</td>\n",
       "    </tr>\n",
       "    <tr>\n",
       "      <th>228</th>\n",
       "      <td>3</td>\n",
       "      <td>its a good movie you can watch one time becaus...</td>\n",
       "    </tr>\n",
       "    <tr>\n",
       "      <th>271</th>\n",
       "      <td>3</td>\n",
       "      <td>i dont get the hate behind this movie i felt i...</td>\n",
       "    </tr>\n",
       "    <tr>\n",
       "      <th>357</th>\n",
       "      <td>5</td>\n",
       "      <td>today is the last day before the mnet movies c...</td>\n",
       "    </tr>\n",
       "    <tr>\n",
       "      <th>976</th>\n",
       "      <td>5</td>\n",
       "      <td>great movie great acting</td>\n",
       "    </tr>\n",
       "  </tbody>\n",
       "</table>\n",
       "</div>"
      ],
      "text/plain": [
       "     Rating                                       clean_Review\n",
       "954       5  this movie is rightly recommended for i quote ...\n",
       "228       3  its a good movie you can watch one time becaus...\n",
       "271       3  i dont get the hate behind this movie i felt i...\n",
       "357       5  today is the last day before the mnet movies c...\n",
       "976       5                           great movie great acting"
      ]
     },
     "execution_count": 45,
     "metadata": {},
     "output_type": "execute_result"
    }
   ],
   "source": [
    "df.sample(5)"
   ]
  },
  {
   "cell_type": "markdown",
   "id": "10496544-788d-4790-affa-dee66b6ee07e",
   "metadata": {},
   "source": [
    "# RENAMING THE COLUMNS PROPERLY"
   ]
  },
  {
   "cell_type": "code",
   "execution_count": 46,
   "id": "c434dab6-00d8-464d-b249-465d7ab0c324",
   "metadata": {},
   "outputs": [],
   "source": [
    "df=df.rename(columns={'clean_Review':'Review'})"
   ]
  },
  {
   "cell_type": "code",
   "execution_count": 47,
   "id": "a02ea1af-4ba6-4c4f-b765-74660265d7f5",
   "metadata": {},
   "outputs": [
    {
     "data": {
      "text/html": [
       "<div>\n",
       "<style scoped>\n",
       "    .dataframe tbody tr th:only-of-type {\n",
       "        vertical-align: middle;\n",
       "    }\n",
       "\n",
       "    .dataframe tbody tr th {\n",
       "        vertical-align: top;\n",
       "    }\n",
       "\n",
       "    .dataframe thead th {\n",
       "        text-align: right;\n",
       "    }\n",
       "</style>\n",
       "<table border=\"1\" class=\"dataframe\">\n",
       "  <thead>\n",
       "    <tr style=\"text-align: right;\">\n",
       "      <th></th>\n",
       "      <th>Rating</th>\n",
       "      <th>Review</th>\n",
       "    </tr>\n",
       "  </thead>\n",
       "  <tbody>\n",
       "    <tr>\n",
       "      <th>0</th>\n",
       "      <td>5</td>\n",
       "      <td>this is by far the best spiderman or even marv...</td>\n",
       "    </tr>\n",
       "    <tr>\n",
       "      <th>1</th>\n",
       "      <td>5</td>\n",
       "      <td>coming from someone who doesnt like the previo...</td>\n",
       "    </tr>\n",
       "    <tr>\n",
       "      <th>2</th>\n",
       "      <td>5</td>\n",
       "      <td>marvel has outdone themselves this is the quin...</td>\n",
       "    </tr>\n",
       "    <tr>\n",
       "      <th>3</th>\n",
       "      <td>5</td>\n",
       "      <td>saw this fdfs at 5am you beauty spiderman the ...</td>\n",
       "    </tr>\n",
       "    <tr>\n",
       "      <th>4</th>\n",
       "      <td>5</td>\n",
       "      <td>best in the spiderman line and it takes top sp...</td>\n",
       "    </tr>\n",
       "    <tr>\n",
       "      <th>5</th>\n",
       "      <td>1</td>\n",
       "      <td>awful movie the plot sucked and had awful paci...</td>\n",
       "    </tr>\n",
       "    <tr>\n",
       "      <th>6</th>\n",
       "      <td>1</td>\n",
       "      <td>marvel really need new writersespecially in th...</td>\n",
       "    </tr>\n",
       "    <tr>\n",
       "      <th>7</th>\n",
       "      <td>1</td>\n",
       "      <td>this movie showed us someone that we didnt eve...</td>\n",
       "    </tr>\n",
       "    <tr>\n",
       "      <th>8</th>\n",
       "      <td>1</td>\n",
       "      <td>im not a fan of superturds i watched this film...</td>\n",
       "    </tr>\n",
       "    <tr>\n",
       "      <th>9</th>\n",
       "      <td>1</td>\n",
       "      <td>i didnt enjoy this movie and what dialogue the...</td>\n",
       "    </tr>\n",
       "  </tbody>\n",
       "</table>\n",
       "</div>"
      ],
      "text/plain": [
       "   Rating                                             Review\n",
       "0       5  this is by far the best spiderman or even marv...\n",
       "1       5  coming from someone who doesnt like the previo...\n",
       "2       5  marvel has outdone themselves this is the quin...\n",
       "3       5  saw this fdfs at 5am you beauty spiderman the ...\n",
       "4       5  best in the spiderman line and it takes top sp...\n",
       "5       1  awful movie the plot sucked and had awful paci...\n",
       "6       1  marvel really need new writersespecially in th...\n",
       "7       1  this movie showed us someone that we didnt eve...\n",
       "8       1  im not a fan of superturds i watched this film...\n",
       "9       1  i didnt enjoy this movie and what dialogue the..."
      ]
     },
     "execution_count": 47,
     "metadata": {},
     "output_type": "execute_result"
    }
   ],
   "source": [
    "df.head(10)"
   ]
  },
  {
   "cell_type": "code",
   "execution_count": 49,
   "id": "ccffa489-c2e6-4cd5-a6b9-2c2a90b4687c",
   "metadata": {},
   "outputs": [
    {
     "name": "stdout",
     "output_type": "stream",
     "text": [
      "Rating\n",
      "1    201\n",
      "2    185\n",
      "3    189\n",
      "4    214\n",
      "5    204\n",
      "Name: count, dtype: int64\n"
     ]
    }
   ],
   "source": [
    "# Count how many times each rating appears\n",
    "\n",
    "rating_counts = df['Rating'].value_counts().sort_index()\n",
    "\n",
    "print(rating_counts)\n"
   ]
  },
  {
   "cell_type": "markdown",
   "id": "08d4f854-8b33-44f1-948c-6b48acb587b9",
   "metadata": {},
   "source": [
    "# SAVING CLEANED DATASET"
   ]
  },
  {
   "cell_type": "code",
   "execution_count": 48,
   "id": "1951f575-4259-474d-9487-1690af37eb7d",
   "metadata": {},
   "outputs": [],
   "source": [
    "df.to_csv(\"../data/cleaned_dataset/movie_cleanedreview.csv\", index=False)\n"
   ]
  },
  {
   "cell_type": "code",
   "execution_count": null,
   "id": "59062254-986a-4c35-a154-95115ada8f79",
   "metadata": {},
   "outputs": [],
   "source": []
  }
 ],
 "metadata": {
  "kernelspec": {
   "display_name": "Python 3 (ipykernel)",
   "language": "python",
   "name": "python3"
  },
  "language_info": {
   "codemirror_mode": {
    "name": "ipython",
    "version": 3
   },
   "file_extension": ".py",
   "mimetype": "text/x-python",
   "name": "python",
   "nbconvert_exporter": "python",
   "pygments_lexer": "ipython3",
   "version": "3.10.18"
  }
 },
 "nbformat": 4,
 "nbformat_minor": 5
}
