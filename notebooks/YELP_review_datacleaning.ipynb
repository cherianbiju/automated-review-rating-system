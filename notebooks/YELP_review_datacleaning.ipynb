{
 "cells": [
  {
   "cell_type": "markdown",
   "id": "406b1763-ed1a-4150-a3a6-a26addb507e9",
   "metadata": {},
   "source": [
    "# IMPORT LIBRARIES AND DATASET"
   ]
  },
  {
   "cell_type": "code",
   "execution_count": 59,
   "id": "f4147bfe-30f1-4c61-9f18-82a0a2980b9d",
   "metadata": {},
   "outputs": [],
   "source": [
    "import pandas as pd\n",
    "import re"
   ]
  },
  {
   "cell_type": "code",
   "execution_count": 60,
   "id": "19b5ee97-829b-4cba-9e89-1fb43e2a30ba",
   "metadata": {},
   "outputs": [],
   "source": [
    "data_path=\"../data/dataset/YELP_Review/yelp.csv\"\n",
    "df=pd.read_csv(data_path)"
   ]
  },
  {
   "cell_type": "code",
   "execution_count": 61,
   "id": "d210d638-4fc0-4103-b61c-a1b75e8fd011",
   "metadata": {},
   "outputs": [
    {
     "data": {
      "text/html": [
       "<div>\n",
       "<style scoped>\n",
       "    .dataframe tbody tr th:only-of-type {\n",
       "        vertical-align: middle;\n",
       "    }\n",
       "\n",
       "    .dataframe tbody tr th {\n",
       "        vertical-align: top;\n",
       "    }\n",
       "\n",
       "    .dataframe thead th {\n",
       "        text-align: right;\n",
       "    }\n",
       "</style>\n",
       "<table border=\"1\" class=\"dataframe\">\n",
       "  <thead>\n",
       "    <tr style=\"text-align: right;\">\n",
       "      <th></th>\n",
       "      <th>business_id</th>\n",
       "      <th>date</th>\n",
       "      <th>review_id</th>\n",
       "      <th>stars</th>\n",
       "      <th>text</th>\n",
       "      <th>type</th>\n",
       "      <th>user_id</th>\n",
       "      <th>cool</th>\n",
       "      <th>useful</th>\n",
       "      <th>funny</th>\n",
       "    </tr>\n",
       "  </thead>\n",
       "  <tbody>\n",
       "    <tr>\n",
       "      <th>3836</th>\n",
       "      <td>luCSjoNQ9q_0QIjKKOy2pQ</td>\n",
       "      <td>2011-10-10</td>\n",
       "      <td>W8OgtYmRGkwh55Pb4xLFqA</td>\n",
       "      <td>5</td>\n",
       "      <td>One of the few legit brewpubs around.</td>\n",
       "      <td>review</td>\n",
       "      <td>--rlgfAvvi0BtfRDA1p-VQ</td>\n",
       "      <td>0</td>\n",
       "      <td>0</td>\n",
       "      <td>0</td>\n",
       "    </tr>\n",
       "    <tr>\n",
       "      <th>599</th>\n",
       "      <td>W0eocyGliMbg8NScqERaiA</td>\n",
       "      <td>2011-01-31</td>\n",
       "      <td>yCB0PVMgHBCJYaAN7ZIAzg</td>\n",
       "      <td>5</td>\n",
       "      <td>One of my new favorite lounges to go to with t...</td>\n",
       "      <td>review</td>\n",
       "      <td>oHn52UJAeJQJxDOob4FEAw</td>\n",
       "      <td>2</td>\n",
       "      <td>6</td>\n",
       "      <td>0</td>\n",
       "    </tr>\n",
       "    <tr>\n",
       "      <th>6193</th>\n",
       "      <td>3BqT16UJFW6BBZxZMPxV1Q</td>\n",
       "      <td>2012-11-11</td>\n",
       "      <td>BQJHvkaRhxXG-AE-4sJ2Ag</td>\n",
       "      <td>5</td>\n",
       "      <td>We just completed our third tour with Taste It...</td>\n",
       "      <td>review</td>\n",
       "      <td>2MPGdIbaaEdKuW9IpPxHfw</td>\n",
       "      <td>0</td>\n",
       "      <td>1</td>\n",
       "      <td>0</td>\n",
       "    </tr>\n",
       "    <tr>\n",
       "      <th>1244</th>\n",
       "      <td>SgGINtDKQgoXoAnQgrDKDg</td>\n",
       "      <td>2012-12-16</td>\n",
       "      <td>HD4qbc-7eGyXAUYnXdb0Sg</td>\n",
       "      <td>3</td>\n",
       "      <td>The Good: We absolutely love their wings and i...</td>\n",
       "      <td>review</td>\n",
       "      <td>J5nb9AT1LDiGN4_hY0Au8Q</td>\n",
       "      <td>1</td>\n",
       "      <td>1</td>\n",
       "      <td>1</td>\n",
       "    </tr>\n",
       "    <tr>\n",
       "      <th>1125</th>\n",
       "      <td>hW0Ne_HTHEAgGF1rAdmR-g</td>\n",
       "      <td>2012-05-30</td>\n",
       "      <td>hUIEsrEvC5L-0B45_8bMtQ</td>\n",
       "      <td>4</td>\n",
       "      <td>My home airport, so with work travel, I'm pass...</td>\n",
       "      <td>review</td>\n",
       "      <td>A99dyhEqcd_yXKPfBWeZHA</td>\n",
       "      <td>1</td>\n",
       "      <td>3</td>\n",
       "      <td>0</td>\n",
       "    </tr>\n",
       "    <tr>\n",
       "      <th>1334</th>\n",
       "      <td>YQvg0JCGRFUkb6reMMf3Iw</td>\n",
       "      <td>2011-04-18</td>\n",
       "      <td>8UagcGX7JLewBcKhufv1Ew</td>\n",
       "      <td>4</td>\n",
       "      <td>This is a very pretty and very chic looking re...</td>\n",
       "      <td>review</td>\n",
       "      <td>dn8OpAemsZCUzbSwtulNHw</td>\n",
       "      <td>1</td>\n",
       "      <td>2</td>\n",
       "      <td>0</td>\n",
       "    </tr>\n",
       "    <tr>\n",
       "      <th>8896</th>\n",
       "      <td>PT7V38tg1Re9MLIrEwdh8w</td>\n",
       "      <td>2011-04-10</td>\n",
       "      <td>vTq6GalikN1nPE5kjGgAOw</td>\n",
       "      <td>3</td>\n",
       "      <td>We've been in the market looking for a church ...</td>\n",
       "      <td>review</td>\n",
       "      <td>fLjjtm4beQfqPxLfeuqboA</td>\n",
       "      <td>0</td>\n",
       "      <td>0</td>\n",
       "      <td>0</td>\n",
       "    </tr>\n",
       "    <tr>\n",
       "      <th>3499</th>\n",
       "      <td>DDnmNTvIIQu2t3WZ2EQx-w</td>\n",
       "      <td>2011-09-06</td>\n",
       "      <td>RGWidgmFW5CtAA-Vfet2pA</td>\n",
       "      <td>5</td>\n",
       "      <td>This is seriously one of my favorite restauran...</td>\n",
       "      <td>review</td>\n",
       "      <td>SlRP0wlWohWkMgnVF2D2hA</td>\n",
       "      <td>0</td>\n",
       "      <td>0</td>\n",
       "      <td>0</td>\n",
       "    </tr>\n",
       "    <tr>\n",
       "      <th>1100</th>\n",
       "      <td>gWQlTK3o29rZGlw2YLUnhA</td>\n",
       "      <td>2008-10-08</td>\n",
       "      <td>TaLnv40D99JimeXXt89-oQ</td>\n",
       "      <td>4</td>\n",
       "      <td>Whenever you want a refreshing drink, go to Te...</td>\n",
       "      <td>review</td>\n",
       "      <td>Ovac_Bws19DOy2_ai3WzeA</td>\n",
       "      <td>3</td>\n",
       "      <td>3</td>\n",
       "      <td>2</td>\n",
       "    </tr>\n",
       "    <tr>\n",
       "      <th>6921</th>\n",
       "      <td>xHe6WBPFINEHUIeq_5yEHQ</td>\n",
       "      <td>2011-12-11</td>\n",
       "      <td>C6Fi3HEJ1mhSmq9nPdqthA</td>\n",
       "      <td>1</td>\n",
       "      <td>I never knew green chilies were more valuable ...</td>\n",
       "      <td>review</td>\n",
       "      <td>MugvKza25c3fvNkI49B8IQ</td>\n",
       "      <td>0</td>\n",
       "      <td>1</td>\n",
       "      <td>0</td>\n",
       "    </tr>\n",
       "  </tbody>\n",
       "</table>\n",
       "</div>"
      ],
      "text/plain": [
       "                 business_id        date               review_id  stars  \\\n",
       "3836  luCSjoNQ9q_0QIjKKOy2pQ  2011-10-10  W8OgtYmRGkwh55Pb4xLFqA      5   \n",
       "599   W0eocyGliMbg8NScqERaiA  2011-01-31  yCB0PVMgHBCJYaAN7ZIAzg      5   \n",
       "6193  3BqT16UJFW6BBZxZMPxV1Q  2012-11-11  BQJHvkaRhxXG-AE-4sJ2Ag      5   \n",
       "1244  SgGINtDKQgoXoAnQgrDKDg  2012-12-16  HD4qbc-7eGyXAUYnXdb0Sg      3   \n",
       "1125  hW0Ne_HTHEAgGF1rAdmR-g  2012-05-30  hUIEsrEvC5L-0B45_8bMtQ      4   \n",
       "1334  YQvg0JCGRFUkb6reMMf3Iw  2011-04-18  8UagcGX7JLewBcKhufv1Ew      4   \n",
       "8896  PT7V38tg1Re9MLIrEwdh8w  2011-04-10  vTq6GalikN1nPE5kjGgAOw      3   \n",
       "3499  DDnmNTvIIQu2t3WZ2EQx-w  2011-09-06  RGWidgmFW5CtAA-Vfet2pA      5   \n",
       "1100  gWQlTK3o29rZGlw2YLUnhA  2008-10-08  TaLnv40D99JimeXXt89-oQ      4   \n",
       "6921  xHe6WBPFINEHUIeq_5yEHQ  2011-12-11  C6Fi3HEJ1mhSmq9nPdqthA      1   \n",
       "\n",
       "                                                   text    type  \\\n",
       "3836              One of the few legit brewpubs around.  review   \n",
       "599   One of my new favorite lounges to go to with t...  review   \n",
       "6193  We just completed our third tour with Taste It...  review   \n",
       "1244  The Good: We absolutely love their wings and i...  review   \n",
       "1125  My home airport, so with work travel, I'm pass...  review   \n",
       "1334  This is a very pretty and very chic looking re...  review   \n",
       "8896  We've been in the market looking for a church ...  review   \n",
       "3499  This is seriously one of my favorite restauran...  review   \n",
       "1100  Whenever you want a refreshing drink, go to Te...  review   \n",
       "6921  I never knew green chilies were more valuable ...  review   \n",
       "\n",
       "                     user_id  cool  useful  funny  \n",
       "3836  --rlgfAvvi0BtfRDA1p-VQ     0       0      0  \n",
       "599   oHn52UJAeJQJxDOob4FEAw     2       6      0  \n",
       "6193  2MPGdIbaaEdKuW9IpPxHfw     0       1      0  \n",
       "1244  J5nb9AT1LDiGN4_hY0Au8Q     1       1      1  \n",
       "1125  A99dyhEqcd_yXKPfBWeZHA     1       3      0  \n",
       "1334  dn8OpAemsZCUzbSwtulNHw     1       2      0  \n",
       "8896  fLjjtm4beQfqPxLfeuqboA     0       0      0  \n",
       "3499  SlRP0wlWohWkMgnVF2D2hA     0       0      0  \n",
       "1100  Ovac_Bws19DOy2_ai3WzeA     3       3      2  \n",
       "6921  MugvKza25c3fvNkI49B8IQ     0       1      0  "
      ]
     },
     "execution_count": 61,
     "metadata": {},
     "output_type": "execute_result"
    }
   ],
   "source": [
    "df.sample(10)"
   ]
  },
  {
   "cell_type": "markdown",
   "id": "21a15b48-309e-46da-aee6-ae1188f5ff4a",
   "metadata": {},
   "source": [
    "# EXTRACTING ONLY THE RATING AND REVIEWS"
   ]
  },
  {
   "cell_type": "code",
   "execution_count": 62,
   "id": "1ea3dab2-8af2-45f7-8468-dd039664a0fa",
   "metadata": {},
   "outputs": [],
   "source": [
    "df=df[['stars','text']].dropna()"
   ]
  },
  {
   "cell_type": "code",
   "execution_count": 63,
   "id": "b58bcc7b-1ec9-42a2-92d4-863a567bf214",
   "metadata": {},
   "outputs": [
    {
     "data": {
      "text/plain": [
       "stars    10000\n",
       "text     10000\n",
       "dtype: int64"
      ]
     },
     "execution_count": 63,
     "metadata": {},
     "output_type": "execute_result"
    }
   ],
   "source": [
    "df.count()"
   ]
  },
  {
   "cell_type": "markdown",
   "id": "e81fd1f7-4531-49cb-8bb1-010b2580c243",
   "metadata": {},
   "source": [
    "# STANDARDIZE OF TEXT DATA"
   ]
  },
  {
   "cell_type": "code",
   "execution_count": 64,
   "id": "3986b7b5-70cc-4a13-b184-92e78157b6d2",
   "metadata": {},
   "outputs": [],
   "source": [
    "df['clean_text']=df['text'].str.strip().str.lower()"
   ]
  },
  {
   "cell_type": "code",
   "execution_count": 65,
   "id": "4dff1627-81e5-4db4-8704-ea1c885cbb71",
   "metadata": {},
   "outputs": [
    {
     "data": {
      "text/html": [
       "<div>\n",
       "<style scoped>\n",
       "    .dataframe tbody tr th:only-of-type {\n",
       "        vertical-align: middle;\n",
       "    }\n",
       "\n",
       "    .dataframe tbody tr th {\n",
       "        vertical-align: top;\n",
       "    }\n",
       "\n",
       "    .dataframe thead th {\n",
       "        text-align: right;\n",
       "    }\n",
       "</style>\n",
       "<table border=\"1\" class=\"dataframe\">\n",
       "  <thead>\n",
       "    <tr style=\"text-align: right;\">\n",
       "      <th></th>\n",
       "      <th>stars</th>\n",
       "      <th>text</th>\n",
       "      <th>clean_text</th>\n",
       "    </tr>\n",
       "  </thead>\n",
       "  <tbody>\n",
       "    <tr>\n",
       "      <th>9435</th>\n",
       "      <td>1</td>\n",
       "      <td>Do not get your oil changed at this walmart or...</td>\n",
       "      <td>do not get your oil changed at this walmart or...</td>\n",
       "    </tr>\n",
       "    <tr>\n",
       "      <th>7774</th>\n",
       "      <td>3</td>\n",
       "      <td>leave it to corporate america to capitalize on...</td>\n",
       "      <td>leave it to corporate america to capitalize on...</td>\n",
       "    </tr>\n",
       "    <tr>\n",
       "      <th>6531</th>\n",
       "      <td>5</td>\n",
       "      <td>Jake's been taking care of our cars for almost...</td>\n",
       "      <td>jake's been taking care of our cars for almost...</td>\n",
       "    </tr>\n",
       "    <tr>\n",
       "      <th>5612</th>\n",
       "      <td>5</td>\n",
       "      <td>Love Love Love it. The Frozen Yogurt is only 8...</td>\n",
       "      <td>love love love it. the frozen yogurt is only 8...</td>\n",
       "    </tr>\n",
       "    <tr>\n",
       "      <th>3897</th>\n",
       "      <td>5</td>\n",
       "      <td>Today our travels took us to the Chandler Mall...</td>\n",
       "      <td>today our travels took us to the chandler mall...</td>\n",
       "    </tr>\n",
       "    <tr>\n",
       "      <th>3354</th>\n",
       "      <td>3</td>\n",
       "      <td>If you want a dog and are in the area, this is...</td>\n",
       "      <td>if you want a dog and are in the area, this is...</td>\n",
       "    </tr>\n",
       "    <tr>\n",
       "      <th>6132</th>\n",
       "      <td>5</td>\n",
       "      <td>This is how Caribbean food should be done.  Ex...</td>\n",
       "      <td>this is how caribbean food should be done.  ex...</td>\n",
       "    </tr>\n",
       "    <tr>\n",
       "      <th>7408</th>\n",
       "      <td>5</td>\n",
       "      <td>Cary is one of the most honest and knowledgeab...</td>\n",
       "      <td>cary is one of the most honest and knowledgeab...</td>\n",
       "    </tr>\n",
       "    <tr>\n",
       "      <th>7531</th>\n",
       "      <td>5</td>\n",
       "      <td>This was such a good experience\\r\\nI was up al...</td>\n",
       "      <td>this was such a good experience\\r\\ni was up al...</td>\n",
       "    </tr>\n",
       "    <tr>\n",
       "      <th>1467</th>\n",
       "      <td>1</td>\n",
       "      <td>Everything about this company sucks. Walmart t...</td>\n",
       "      <td>everything about this company sucks. walmart t...</td>\n",
       "    </tr>\n",
       "  </tbody>\n",
       "</table>\n",
       "</div>"
      ],
      "text/plain": [
       "      stars                                               text  \\\n",
       "9435      1  Do not get your oil changed at this walmart or...   \n",
       "7774      3  leave it to corporate america to capitalize on...   \n",
       "6531      5  Jake's been taking care of our cars for almost...   \n",
       "5612      5  Love Love Love it. The Frozen Yogurt is only 8...   \n",
       "3897      5  Today our travels took us to the Chandler Mall...   \n",
       "3354      3  If you want a dog and are in the area, this is...   \n",
       "6132      5  This is how Caribbean food should be done.  Ex...   \n",
       "7408      5  Cary is one of the most honest and knowledgeab...   \n",
       "7531      5  This was such a good experience\\r\\nI was up al...   \n",
       "1467      1  Everything about this company sucks. Walmart t...   \n",
       "\n",
       "                                             clean_text  \n",
       "9435  do not get your oil changed at this walmart or...  \n",
       "7774  leave it to corporate america to capitalize on...  \n",
       "6531  jake's been taking care of our cars for almost...  \n",
       "5612  love love love it. the frozen yogurt is only 8...  \n",
       "3897  today our travels took us to the chandler mall...  \n",
       "3354  if you want a dog and are in the area, this is...  \n",
       "6132  this is how caribbean food should be done.  ex...  \n",
       "7408  cary is one of the most honest and knowledgeab...  \n",
       "7531  this was such a good experience\\r\\ni was up al...  \n",
       "1467  everything about this company sucks. walmart t...  "
      ]
     },
     "execution_count": 65,
     "metadata": {},
     "output_type": "execute_result"
    }
   ],
   "source": [
    "df.sample(10)"
   ]
  },
  {
   "cell_type": "code",
   "execution_count": 66,
   "id": "c4c35c6c-8200-485c-b08c-119b0c8bae9f",
   "metadata": {},
   "outputs": [
    {
     "data": {
      "text/plain": [
       "0       False\n",
       "1       False\n",
       "2       False\n",
       "3       False\n",
       "4       False\n",
       "        ...  \n",
       "9995    False\n",
       "9996    False\n",
       "9997    False\n",
       "9998    False\n",
       "9999    False\n",
       "Length: 10000, dtype: bool"
      ]
     },
     "execution_count": 66,
     "metadata": {},
     "output_type": "execute_result"
    }
   ],
   "source": [
    "df['clean_text']=df['clean_text'].str.replace(r'[^\\s\\w]','',regex=True)\n",
    "df.duplicated(subset='clean_text')"
   ]
  },
  {
   "cell_type": "code",
   "execution_count": 68,
   "id": "ec5e9a34-c581-4cf0-a43c-6e23e6e0060e",
   "metadata": {},
   "outputs": [
    {
     "data": {
      "text/html": [
       "<div>\n",
       "<style scoped>\n",
       "    .dataframe tbody tr th:only-of-type {\n",
       "        vertical-align: middle;\n",
       "    }\n",
       "\n",
       "    .dataframe tbody tr th {\n",
       "        vertical-align: top;\n",
       "    }\n",
       "\n",
       "    .dataframe thead th {\n",
       "        text-align: right;\n",
       "    }\n",
       "</style>\n",
       "<table border=\"1\" class=\"dataframe\">\n",
       "  <thead>\n",
       "    <tr style=\"text-align: right;\">\n",
       "      <th></th>\n",
       "      <th>stars</th>\n",
       "      <th>text</th>\n",
       "      <th>clean_text</th>\n",
       "    </tr>\n",
       "  </thead>\n",
       "  <tbody>\n",
       "    <tr>\n",
       "      <th>0</th>\n",
       "      <td>5</td>\n",
       "      <td>My wife took me here on my birthday for breakf...</td>\n",
       "      <td>my wife took me here on my birthday for breakf...</td>\n",
       "    </tr>\n",
       "    <tr>\n",
       "      <th>1</th>\n",
       "      <td>5</td>\n",
       "      <td>I have no idea why some people give bad review...</td>\n",
       "      <td>i have no idea why some people give bad review...</td>\n",
       "    </tr>\n",
       "    <tr>\n",
       "      <th>2</th>\n",
       "      <td>4</td>\n",
       "      <td>love the gyro plate. Rice is so good and I als...</td>\n",
       "      <td>love the gyro plate rice is so good and i also...</td>\n",
       "    </tr>\n",
       "    <tr>\n",
       "      <th>3</th>\n",
       "      <td>5</td>\n",
       "      <td>Rosie, Dakota, and I LOVE Chaparral Dog Park!!...</td>\n",
       "      <td>rosie dakota and i love chaparral dog park its...</td>\n",
       "    </tr>\n",
       "    <tr>\n",
       "      <th>4</th>\n",
       "      <td>5</td>\n",
       "      <td>General Manager Scott Petello is a good egg!!!...</td>\n",
       "      <td>general manager scott petello is a good egg no...</td>\n",
       "    </tr>\n",
       "    <tr>\n",
       "      <th>5</th>\n",
       "      <td>4</td>\n",
       "      <td>Quiessence is, simply put, beautiful.  Full wi...</td>\n",
       "      <td>quiessence is simply put beautiful  full windo...</td>\n",
       "    </tr>\n",
       "    <tr>\n",
       "      <th>6</th>\n",
       "      <td>5</td>\n",
       "      <td>Drop what you're doing and drive here. After I...</td>\n",
       "      <td>drop what youre doing and drive here after i a...</td>\n",
       "    </tr>\n",
       "    <tr>\n",
       "      <th>7</th>\n",
       "      <td>4</td>\n",
       "      <td>Luckily, I didn't have to travel far to make m...</td>\n",
       "      <td>luckily i didnt have to travel far to make my ...</td>\n",
       "    </tr>\n",
       "    <tr>\n",
       "      <th>8</th>\n",
       "      <td>4</td>\n",
       "      <td>Definitely come for Happy hour! Prices are ama...</td>\n",
       "      <td>definitely come for happy hour prices are amaz...</td>\n",
       "    </tr>\n",
       "    <tr>\n",
       "      <th>9</th>\n",
       "      <td>5</td>\n",
       "      <td>Nobuo shows his unique talents with everything...</td>\n",
       "      <td>nobuo shows his unique talents with everything...</td>\n",
       "    </tr>\n",
       "  </tbody>\n",
       "</table>\n",
       "</div>"
      ],
      "text/plain": [
       "   stars                                               text  \\\n",
       "0      5  My wife took me here on my birthday for breakf...   \n",
       "1      5  I have no idea why some people give bad review...   \n",
       "2      4  love the gyro plate. Rice is so good and I als...   \n",
       "3      5  Rosie, Dakota, and I LOVE Chaparral Dog Park!!...   \n",
       "4      5  General Manager Scott Petello is a good egg!!!...   \n",
       "5      4  Quiessence is, simply put, beautiful.  Full wi...   \n",
       "6      5  Drop what you're doing and drive here. After I...   \n",
       "7      4  Luckily, I didn't have to travel far to make m...   \n",
       "8      4  Definitely come for Happy hour! Prices are ama...   \n",
       "9      5  Nobuo shows his unique talents with everything...   \n",
       "\n",
       "                                          clean_text  \n",
       "0  my wife took me here on my birthday for breakf...  \n",
       "1  i have no idea why some people give bad review...  \n",
       "2  love the gyro plate rice is so good and i also...  \n",
       "3  rosie dakota and i love chaparral dog park its...  \n",
       "4  general manager scott petello is a good egg no...  \n",
       "5  quiessence is simply put beautiful  full windo...  \n",
       "6  drop what youre doing and drive here after i a...  \n",
       "7  luckily i didnt have to travel far to make my ...  \n",
       "8  definitely come for happy hour prices are amaz...  \n",
       "9  nobuo shows his unique talents with everything...  "
      ]
     },
     "execution_count": 68,
     "metadata": {},
     "output_type": "execute_result"
    }
   ],
   "source": [
    "df.head(10)"
   ]
  },
  {
   "cell_type": "markdown",
   "id": "a0de520a-f1c8-47be-9a8b-eef00eb0667d",
   "metadata": {},
   "source": [
    "# REMOVING THE DUPLICATES FROM THE DATASET"
   ]
  },
  {
   "cell_type": "code",
   "execution_count": 69,
   "id": "67c2d7dd-3c10-48d0-91d2-1486366eebdb",
   "metadata": {},
   "outputs": [
    {
     "data": {
      "text/plain": [
       "np.int64(3)"
      ]
     },
     "execution_count": 69,
     "metadata": {},
     "output_type": "execute_result"
    }
   ],
   "source": [
    "df.duplicated(subset='clean_text').sum()"
   ]
  },
  {
   "cell_type": "code",
   "execution_count": 70,
   "id": "20194158-fa29-4f1f-b07c-274ea344e9a1",
   "metadata": {},
   "outputs": [],
   "source": [
    "df=df.drop_duplicates(subset='clean_text',keep='first')"
   ]
  },
  {
   "cell_type": "markdown",
   "id": "d64e56ea-94bc-4a7f-87ba-e40a06f58719",
   "metadata": {},
   "source": [
    "# CHECKING FOR EMPTY REVIEWS"
   ]
  },
  {
   "cell_type": "code",
   "execution_count": 71,
   "id": "a76aa674-1f43-42c4-832a-6b17fded3f74",
   "metadata": {},
   "outputs": [
    {
     "data": {
      "text/plain": [
       "np.int64(0)"
      ]
     },
     "execution_count": 71,
     "metadata": {},
     "output_type": "execute_result"
    }
   ],
   "source": [
    "df.duplicated(subset='clean_text').sum()"
   ]
  },
  {
   "cell_type": "code",
   "execution_count": 72,
   "id": "d657598c-f9b8-4644-8f78-bb7990d802eb",
   "metadata": {},
   "outputs": [
    {
     "name": "stdout",
     "output_type": "stream",
     "text": [
      "0\n"
     ]
    }
   ],
   "source": [
    "empty_count = (df['clean_text'] == '').sum()\n",
    "print(empty_count)"
   ]
  },
  {
   "cell_type": "code",
   "execution_count": 73,
   "id": "2b15b7e9-dccf-4906-a762-e8c927228e31",
   "metadata": {},
   "outputs": [],
   "source": [
    "df = df[df['clean_text'] != '']"
   ]
  },
  {
   "cell_type": "code",
   "execution_count": 74,
   "id": "86828e63-c7fa-46ea-b0a4-264bc9d75eae",
   "metadata": {},
   "outputs": [
    {
     "name": "stdout",
     "output_type": "stream",
     "text": [
      "0\n"
     ]
    }
   ],
   "source": [
    "empty_count = (df['clean_text'] == '').sum()\n",
    "print(empty_count)"
   ]
  },
  {
   "cell_type": "markdown",
   "id": "2c394f51-f873-46e5-ae5d-638bdf583d9b",
   "metadata": {},
   "source": [
    "# DROPING THE UNWANTED COLUMNS 'REVIEW'"
   ]
  },
  {
   "cell_type": "code",
   "execution_count": 75,
   "id": "a82babc8-eb3e-4fcd-8e1f-bf8a3cac12cb",
   "metadata": {},
   "outputs": [],
   "source": [
    "df=df.drop(columns='text')"
   ]
  },
  {
   "cell_type": "code",
   "execution_count": 76,
   "id": "76269b36-0e57-460d-8352-69dd4de678c2",
   "metadata": {},
   "outputs": [
    {
     "data": {
      "text/html": [
       "<div>\n",
       "<style scoped>\n",
       "    .dataframe tbody tr th:only-of-type {\n",
       "        vertical-align: middle;\n",
       "    }\n",
       "\n",
       "    .dataframe tbody tr th {\n",
       "        vertical-align: top;\n",
       "    }\n",
       "\n",
       "    .dataframe thead th {\n",
       "        text-align: right;\n",
       "    }\n",
       "</style>\n",
       "<table border=\"1\" class=\"dataframe\">\n",
       "  <thead>\n",
       "    <tr style=\"text-align: right;\">\n",
       "      <th></th>\n",
       "      <th>stars</th>\n",
       "      <th>clean_text</th>\n",
       "    </tr>\n",
       "  </thead>\n",
       "  <tbody>\n",
       "    <tr>\n",
       "      <th>6145</th>\n",
       "      <td>4</td>\n",
       "      <td>one of the best craft brew retailers in the nw...</td>\n",
       "    </tr>\n",
       "    <tr>\n",
       "      <th>5025</th>\n",
       "      <td>5</td>\n",
       "      <td>still flying solo  my friends took me for dinn...</td>\n",
       "    </tr>\n",
       "    <tr>\n",
       "      <th>4229</th>\n",
       "      <td>5</td>\n",
       "      <td>im not a fan of chains i far prefer to find an...</td>\n",
       "    </tr>\n",
       "    <tr>\n",
       "      <th>6772</th>\n",
       "      <td>5</td>\n",
       "      <td>caught louis ck here last night \\r\\n\\r\\nbeauti...</td>\n",
       "    </tr>\n",
       "    <tr>\n",
       "      <th>4400</th>\n",
       "      <td>3</td>\n",
       "      <td>popped in for a quick meal before a show fun d...</td>\n",
       "    </tr>\n",
       "    <tr>\n",
       "      <th>9493</th>\n",
       "      <td>5</td>\n",
       "      <td>i try and eat here regularly hummus is great v...</td>\n",
       "    </tr>\n",
       "    <tr>\n",
       "      <th>3713</th>\n",
       "      <td>3</td>\n",
       "      <td>ok so i finally ate at wandas  it is located r...</td>\n",
       "    </tr>\n",
       "    <tr>\n",
       "      <th>5124</th>\n",
       "      <td>5</td>\n",
       "      <td>i was visiting tempe for ironman arizona and c...</td>\n",
       "    </tr>\n",
       "    <tr>\n",
       "      <th>3916</th>\n",
       "      <td>4</td>\n",
       "      <td>had a great time very family friendly</td>\n",
       "    </tr>\n",
       "    <tr>\n",
       "      <th>2033</th>\n",
       "      <td>4</td>\n",
       "      <td>we go to fresh wasabi a lot and usually its th...</td>\n",
       "    </tr>\n",
       "  </tbody>\n",
       "</table>\n",
       "</div>"
      ],
      "text/plain": [
       "      stars                                         clean_text\n",
       "6145      4  one of the best craft brew retailers in the nw...\n",
       "5025      5  still flying solo  my friends took me for dinn...\n",
       "4229      5  im not a fan of chains i far prefer to find an...\n",
       "6772      5  caught louis ck here last night \\r\\n\\r\\nbeauti...\n",
       "4400      3  popped in for a quick meal before a show fun d...\n",
       "9493      5  i try and eat here regularly hummus is great v...\n",
       "3713      3  ok so i finally ate at wandas  it is located r...\n",
       "5124      5  i was visiting tempe for ironman arizona and c...\n",
       "3916      4              had a great time very family friendly\n",
       "2033      4  we go to fresh wasabi a lot and usually its th..."
      ]
     },
     "execution_count": 76,
     "metadata": {},
     "output_type": "execute_result"
    }
   ],
   "source": [
    "df.sample(10)"
   ]
  },
  {
   "cell_type": "markdown",
   "id": "ee8b1a2b-c677-4e10-aeb0-0138180fee6e",
   "metadata": {},
   "source": [
    "# RENAMING THE COLUMNS PROPERLY"
   ]
  },
  {
   "cell_type": "code",
   "execution_count": 77,
   "id": "9dfd6664-7c54-4084-9ffb-32e52c49051a",
   "metadata": {},
   "outputs": [],
   "source": [
    "df=df.rename(columns={'clean_text':'Reviews','stars':'Rating'})"
   ]
  },
  {
   "cell_type": "code",
   "execution_count": 78,
   "id": "3ed5e5d0-fd6a-45e2-895d-73f2d380b2ff",
   "metadata": {},
   "outputs": [
    {
     "data": {
      "text/html": [
       "<div>\n",
       "<style scoped>\n",
       "    .dataframe tbody tr th:only-of-type {\n",
       "        vertical-align: middle;\n",
       "    }\n",
       "\n",
       "    .dataframe tbody tr th {\n",
       "        vertical-align: top;\n",
       "    }\n",
       "\n",
       "    .dataframe thead th {\n",
       "        text-align: right;\n",
       "    }\n",
       "</style>\n",
       "<table border=\"1\" class=\"dataframe\">\n",
       "  <thead>\n",
       "    <tr style=\"text-align: right;\">\n",
       "      <th></th>\n",
       "      <th>Rating</th>\n",
       "      <th>Reviews</th>\n",
       "    </tr>\n",
       "  </thead>\n",
       "  <tbody>\n",
       "    <tr>\n",
       "      <th>0</th>\n",
       "      <td>5</td>\n",
       "      <td>my wife took me here on my birthday for breakf...</td>\n",
       "    </tr>\n",
       "    <tr>\n",
       "      <th>1</th>\n",
       "      <td>5</td>\n",
       "      <td>i have no idea why some people give bad review...</td>\n",
       "    </tr>\n",
       "    <tr>\n",
       "      <th>2</th>\n",
       "      <td>4</td>\n",
       "      <td>love the gyro plate rice is so good and i also...</td>\n",
       "    </tr>\n",
       "    <tr>\n",
       "      <th>3</th>\n",
       "      <td>5</td>\n",
       "      <td>rosie dakota and i love chaparral dog park its...</td>\n",
       "    </tr>\n",
       "    <tr>\n",
       "      <th>4</th>\n",
       "      <td>5</td>\n",
       "      <td>general manager scott petello is a good egg no...</td>\n",
       "    </tr>\n",
       "    <tr>\n",
       "      <th>5</th>\n",
       "      <td>4</td>\n",
       "      <td>quiessence is simply put beautiful  full windo...</td>\n",
       "    </tr>\n",
       "    <tr>\n",
       "      <th>6</th>\n",
       "      <td>5</td>\n",
       "      <td>drop what youre doing and drive here after i a...</td>\n",
       "    </tr>\n",
       "    <tr>\n",
       "      <th>7</th>\n",
       "      <td>4</td>\n",
       "      <td>luckily i didnt have to travel far to make my ...</td>\n",
       "    </tr>\n",
       "    <tr>\n",
       "      <th>8</th>\n",
       "      <td>4</td>\n",
       "      <td>definitely come for happy hour prices are amaz...</td>\n",
       "    </tr>\n",
       "    <tr>\n",
       "      <th>9</th>\n",
       "      <td>5</td>\n",
       "      <td>nobuo shows his unique talents with everything...</td>\n",
       "    </tr>\n",
       "  </tbody>\n",
       "</table>\n",
       "</div>"
      ],
      "text/plain": [
       "   Rating                                            Reviews\n",
       "0       5  my wife took me here on my birthday for breakf...\n",
       "1       5  i have no idea why some people give bad review...\n",
       "2       4  love the gyro plate rice is so good and i also...\n",
       "3       5  rosie dakota and i love chaparral dog park its...\n",
       "4       5  general manager scott petello is a good egg no...\n",
       "5       4  quiessence is simply put beautiful  full windo...\n",
       "6       5  drop what youre doing and drive here after i a...\n",
       "7       4  luckily i didnt have to travel far to make my ...\n",
       "8       4  definitely come for happy hour prices are amaz...\n",
       "9       5  nobuo shows his unique talents with everything..."
      ]
     },
     "execution_count": 78,
     "metadata": {},
     "output_type": "execute_result"
    }
   ],
   "source": [
    "df.head(10)"
   ]
  },
  {
   "cell_type": "code",
   "execution_count": 79,
   "id": "988564e5-9a2d-4765-adbb-4f387d8e6a29",
   "metadata": {},
   "outputs": [
    {
     "name": "stdout",
     "output_type": "stream",
     "text": [
      "Rating\n",
      "1     749\n",
      "2     926\n",
      "3    1461\n",
      "4    3526\n",
      "5    3335\n",
      "Name: count, dtype: int64\n"
     ]
    }
   ],
   "source": [
    "# Count how many times each rating appears\n",
    "\n",
    "rating_counts = df['Rating'].value_counts().sort_index()\n",
    "\n",
    "print(rating_counts)\n"
   ]
  },
  {
   "cell_type": "markdown",
   "id": "5e781a5b-a52c-4d36-bc52-6fa7bca70cb5",
   "metadata": {},
   "source": [
    "# SAVING CLEANED DATASET TO CSV FILE"
   ]
  },
  {
   "cell_type": "code",
   "execution_count": 80,
   "id": "9cbc2e50-6b3c-45d6-a954-9481f9134cdd",
   "metadata": {},
   "outputs": [],
   "source": [
    "df.to_csv(\"../data/cleaned_dataset/yelp_cleanedreview.csv\", index=False)\n"
   ]
  },
  {
   "cell_type": "code",
   "execution_count": null,
   "id": "e298e2c9-f6fe-4904-9aef-e68b25a4bb37",
   "metadata": {},
   "outputs": [],
   "source": []
  },
  {
   "cell_type": "code",
   "execution_count": null,
   "id": "63b790b8-6a81-48d5-86a6-abe4688df935",
   "metadata": {},
   "outputs": [],
   "source": []
  }
 ],
 "metadata": {
  "kernelspec": {
   "display_name": "Python 3 (ipykernel)",
   "language": "python",
   "name": "python3"
  },
  "language_info": {
   "codemirror_mode": {
    "name": "ipython",
    "version": 3
   },
   "file_extension": ".py",
   "mimetype": "text/x-python",
   "name": "python",
   "nbconvert_exporter": "python",
   "pygments_lexer": "ipython3",
   "version": "3.10.18"
  }
 },
 "nbformat": 4,
 "nbformat_minor": 5
}
